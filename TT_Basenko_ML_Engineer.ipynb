{
 "cells": [
  {
   "cell_type": "markdown",
   "metadata": {
    "id": "DmCjok6R82Ku"
   },
   "source": [
    "# Task 1. Pytorch Basics"
   ]
  },
  {
   "cell_type": "code",
   "execution_count": 2,
   "metadata": {
    "id": "OBXPHZL17xyJ"
   },
   "outputs": [],
   "source": [
    "# Import necessary libraries\n",
    "import torch\n",
    "from torch import nn\n",
    "from torch.nn import functional as F\n",
    "\n",
    "class PowerEquation(nn.Module):\n",
    "    def __init__(self):\n",
    "        super(PowerEquation, self).__init__()\n",
    "        self.n = nn.Parameter(torch.randn(1))\n",
    "\n",
    "    def forward(self, x):\n",
    "\n",
    "        n = 2 * torch.sigmoid(self.n) + 1 # ensure range to [1,3]\n",
    "        print(\"N = \", n)\n",
    "        x = torch.abs(x) # positive x\n",
    "        return x ** n"
   ]
  },
  {
   "cell_type": "code",
   "execution_count": 3,
   "metadata": {
    "colab": {
     "base_uri": "https://localhost:8080/"
    },
    "id": "oQJg1R4772eE",
    "outputId": "015072d4-b039-4f61-a8b5-c35d2ab4d0b5"
   },
   "outputs": [
    {
     "name": "stdout",
     "output_type": "stream",
     "text": [
      "tensor([[0.6901, 0.6249, 0.7387, 0.6755, 0.1667, 0.6437, 0.8871, 0.5589, 0.5763,\n",
      "         0.5168, 0.1810, 0.9622, 0.0427, 0.9196, 0.2336, 0.1222],\n",
      "        [0.4411, 0.9798, 0.4337, 0.6684, 0.1676, 0.1862, 0.8743, 0.0423, 0.6907,\n",
      "         0.0707, 0.5519, 0.0052, 0.4577, 0.0716, 0.4642, 0.3069],\n",
      "        [0.9539, 0.8834, 0.4880, 0.1674, 0.8496, 0.1567, 0.4073, 0.0514, 0.2810,\n",
      "         0.1331, 0.8230, 0.0765, 0.2676, 0.6471, 0.2822, 0.5420],\n",
      "        [0.3748, 0.1427, 0.3680, 0.9045, 0.9572, 0.6189, 0.0090, 0.8114, 0.1234,\n",
      "         0.9182, 0.2974, 0.7480, 0.8137, 0.3265, 0.2374, 0.8145],\n",
      "        [0.7385, 0.0560, 0.9589, 0.1379, 0.6338, 0.8217, 0.1287, 0.8686, 0.5799,\n",
      "         0.5336, 0.5931, 0.5212, 0.1811, 0.7027, 0.2622, 0.4860],\n",
      "        [0.0547, 0.4698, 0.0914, 0.0352, 0.9558, 0.6691, 0.6313, 0.3902, 0.5574,\n",
      "         0.6248, 0.4747, 0.5385, 0.5944, 0.8794, 0.8476, 0.5498],\n",
      "        [0.8006, 0.5122, 0.9258, 0.6716, 0.2914, 0.2175, 0.2240, 0.7491, 0.4625,\n",
      "         0.8194, 0.9216, 0.3661, 0.5418, 0.2081, 0.3399, 0.5556],\n",
      "        [0.8647, 0.7248, 0.7407, 0.4102, 0.9465, 0.1393, 0.8376, 0.0921, 0.2391,\n",
      "         0.4732, 0.0582, 0.3770, 0.0284, 0.4874, 0.4737, 0.8543]])\n"
     ]
    }
   ],
   "source": [
    "power_equation = PowerEquation()\n",
    "\n",
    "# Generatinga a random tensor\n",
    "x = torch.rand(8, 16)\n",
    "\n",
    "print(x)\n"
   ]
  },
  {
   "cell_type": "code",
   "execution_count": 4,
   "metadata": {
    "colab": {
     "base_uri": "https://localhost:8080/"
    },
    "id": "dK2bP7NE8Iy3",
    "outputId": "a535082a-7033-400d-c5e3-076c0ec2b216"
   },
   "outputs": [
    {
     "name": "stdout",
     "output_type": "stream",
     "text": [
      "N =  tensor([2.0933], grad_fn=<AddBackward0>)\n"
     ]
    }
   ],
   "source": [
    "# Pass the tensor through the module\n",
    "output = power_equation(x)\n"
   ]
  },
  {
   "cell_type": "code",
   "execution_count": 5,
   "metadata": {
    "colab": {
     "base_uri": "https://localhost:8080/"
    },
    "id": "3QCxVtDE8PLo",
    "outputId": "89d9cf24-7cc3-46da-a890-f0cdadf0c091"
   },
   "outputs": [
    {
     "name": "stdout",
     "output_type": "stream",
     "text": [
      "tensor([[4.6010e-01, 3.7370e-01, 5.3045e-01, 4.3997e-01, 2.3524e-02, 3.9762e-01,\n",
      "         7.7824e-01, 2.9590e-01, 3.1549e-01, 2.5114e-01, 2.7934e-02, 9.2252e-01,\n",
      "         1.3617e-03, 8.3899e-01, 4.7652e-02, 1.2276e-02],\n",
      "        [1.8027e-01, 9.5825e-01, 1.7398e-01, 4.3028e-01, 2.3780e-02, 2.9632e-02,\n",
      "         7.5494e-01, 1.3317e-03, 4.6090e-01, 3.9065e-03, 2.8819e-01, 1.6880e-05,\n",
      "         1.9477e-01, 4.0096e-03, 2.0060e-01, 8.4374e-02],\n",
      "        [9.0599e-01, 7.7138e-01, 2.2277e-01, 2.3712e-02, 7.1100e-01, 2.0658e-02,\n",
      "         1.5253e-01, 2.0041e-03, 7.0139e-02, 1.4668e-02, 6.6511e-01, 4.6021e-03,\n",
      "         6.3320e-02, 4.0214e-01, 7.0770e-02, 2.7744e-01],\n",
      "        [1.2819e-01, 1.6993e-02, 1.2335e-01, 8.1045e-01, 9.1249e-01, 3.6624e-01,\n",
      "         5.2590e-05, 6.4561e-01, 1.2532e-02, 8.3639e-01, 7.9006e-02, 5.4450e-01,\n",
      "         6.4955e-01, 9.6049e-02, 4.9307e-02, 6.5088e-01],\n",
      "        [5.3014e-01, 2.4010e-03, 9.1589e-01, 1.5799e-02, 3.8502e-01, 6.6301e-01,\n",
      "         1.3692e-02, 7.4456e-01, 3.1958e-01, 2.6856e-01, 3.3505e-01, 2.5566e-01,\n",
      "         2.7956e-02, 4.7778e-01, 6.0701e-02, 2.2083e-01],\n",
      "        [2.2851e-03, 2.0572e-01, 6.6893e-03, 9.0756e-04, 9.0963e-01, 4.3120e-01,\n",
      "         3.8184e-01, 1.3944e-01, 2.9422e-01, 3.7367e-01, 2.1021e-01, 2.7374e-01,\n",
      "         3.3660e-01, 7.6411e-01, 7.0742e-01, 2.8586e-01],\n",
      "        [6.2782e-01, 2.4644e-01, 8.5093e-01, 4.3467e-01, 7.5693e-02, 4.1050e-02,\n",
      "         4.3638e-02, 5.4629e-01, 1.9905e-01, 6.5908e-01, 8.4299e-01, 1.2204e-01,\n",
      "         2.7719e-01, 3.7407e-02, 1.0448e-01, 2.9225e-01],\n",
      "        [7.3761e-01, 5.0977e-01, 5.3350e-01, 1.5485e-01, 8.9127e-01, 1.6157e-02,\n",
      "         6.9013e-01, 6.7986e-03, 5.0039e-02, 2.0885e-01, 2.6002e-03, 1.2978e-01,\n",
      "         5.8036e-04, 2.2220e-01, 2.0928e-01, 7.1924e-01]],\n",
      "       grad_fn=<PowBackward1>)\n"
     ]
    }
   ],
   "source": [
    "\n",
    "# Print the output\n",
    "print(output)"
   ]
  },
  {
   "cell_type": "markdown",
   "metadata": {
    "id": "q-wPrNw59Ekw"
   },
   "source": [
    "# Task 2: Deep Learning Algorithm for Denoising\n",
    "\n",
    "##### You didn't specify the framework, so I chose TF."
   ]
  },
  {
   "cell_type": "code",
   "execution_count": 64,
   "metadata": {
    "id": "yVHJCOoM808T"
   },
   "outputs": [],
   "source": [
    "import pandas as pd  \n",
    "import os  \n",
    "from tqdm import tqdm\n",
    "import numpy as np\n",
    "# Define the data directory  \n",
    "data_dir = \"C:/Users/your/path/to/data\"  \n",
    "  \n",
    "def load_data(directory):  \n",
    "    X = []  \n",
    "    Y = []  \n",
    "    for filename in tqdm(os.listdir(directory)):  \n",
    "        file_path = os.path.join(directory, filename)  \n",
    "        if filename.endswith('.csv'):  \n",
    "            data = pd.read_csv(file_path, header=None).values.flatten()  \n",
    "            # data = np.tanh(data)\n",
    "            if filename.endswith('0.csv'):  \n",
    "                Y.append(data)  \n",
    "            else:  \n",
    "                X.append(data)  \n",
    "    return np.array(X), np.array(Y)  \n"
   ]
  },
  {
   "cell_type": "code",
   "execution_count": 65,
   "metadata": {},
   "outputs": [
    {
     "name": "stderr",
     "output_type": "stream",
     "text": [
      "100%|██████████| 5000/5000 [00:17<00:00, 292.86it/s]\n"
     ]
    }
   ],
   "source": [
    "X, Y = load_data(data_dir)  "
   ]
  },
  {
   "cell_type": "code",
   "execution_count": 66,
   "metadata": {},
   "outputs": [
    {
     "name": "stdout",
     "output_type": "stream",
     "text": [
      "4500\n",
      "500\n"
     ]
    }
   ],
   "source": [
    "print(len(X))\n",
    "print(len(Y))"
   ]
  },
  {
   "cell_type": "code",
   "execution_count": 82,
   "metadata": {},
   "outputs": [],
   "source": [
    "def print_histohram(array) :  \n",
    "    all_values = np.array([])\n",
    "    for i in range(len(array)):\n",
    "        all_values = np.append(all_values,array[i])\n",
    "\n",
    "    print(all_values.shape)\n",
    "\n",
    "    import matplotlib.pyplot as plt\n",
    "\n",
    "    plt.hist(all_values, bins=50)\n",
    "    plt.xlabel(\"Value\")\n",
    "    plt.ylabel(\"Frequency\")\n",
    "    plt.show()"
   ]
  },
  {
   "cell_type": "code",
   "execution_count": 83,
   "metadata": {},
   "outputs": [
    {
     "name": "stdout",
     "output_type": "stream",
     "text": [
      "(540000,)\n"
     ]
    },
    {
     "data": {
      "image/png": "[encoded data removed]",
      "text/plain": [
       "<Figure size 640x480 with 1 Axes>"
      ]
     },
     "metadata": {},
     "output_type": "display_data"
    }
   ],
   "source": [
    "print_histohram(X)"
   ]
  },
  {
   "cell_type": "code",
   "execution_count": 69,
   "metadata": {},
   "outputs": [],
   "source": [
    "X_tanh, Y_tanh = np.tanh(X), np.tanh(Y)"
   ]
  },
  {
   "cell_type": "code",
   "execution_count": 70,
   "metadata": {},
   "outputs": [
    {
     "ename": "AssertionError",
     "evalue": "",
     "output_type": "error",
     "traceback": [
      "\u001b[1;31m---------------------------------------------------------------------------\u001b[0m",
      "\u001b[1;31mAssertionError\u001b[0m                            Traceback (most recent call last)",
      "Cell \u001b[1;32mIn [70], line 1\u001b[0m\n\u001b[1;32m----> 1\u001b[0m \u001b[38;5;28;01massert\u001b[39;00m np\u001b[38;5;241m.\u001b[39marray_equal(X_tanh, X)  \n",
      "\u001b[1;31mAssertionError\u001b[0m: "
     ]
    }
   ],
   "source": [
    "assert np.array_equal(X_tanh, X)  "
   ]
  },
  {
   "cell_type": "code",
   "execution_count": 71,
   "metadata": {},
   "outputs": [],
   "source": [
    "# Step 2: Preprocess the data  \n",
    "def preprocess_data(X, Y):  \n",
    "    # Assuming that for each Y there are 9 corresponding Xs  \n",
    "    X_processed = np.repeat(Y, 9, axis=0)  \n",
    "    return X_processed, X "
   ]
  },
  {
   "cell_type": "code",
   "execution_count": 72,
   "metadata": {},
   "outputs": [
    {
     "name": "stdout",
     "output_type": "stream",
     "text": [
      "4500\n",
      "4500\n"
     ]
    }
   ],
   "source": [
    "Y_processed, X_noisy = preprocess_data(X_tanh, Y_tanh)  \n",
    "print(len(Y_processed)) # Y\n",
    "print(len(X_noisy)) # X"
   ]
  },
  {
   "cell_type": "code",
   "execution_count": 73,
   "metadata": {},
   "outputs": [],
   "source": [
    "from tensorflow.keras.models import Sequential  \n",
    "from tensorflow.keras.layers import Dense  \n",
    "from sklearn.model_selection import train_test_split  \n",
    "import matplotlib.pyplot as plt  \n",
    "\n",
    "# Step 3: Design the model  \n",
    "def build_model(input_shape):  \n",
    "    \"\"\"\n",
    "    Simple NN for this task. Also we can add BatchNorm or/and dropout\n",
    "    \"\"\"\n",
    "    model = Sequential()  \n",
    "    model.add(Dense(64, activation='relu', input_shape=input_shape))  \n",
    "    model.add(Dense(64, activation='relu'))  \n",
    "    model.add(Dense(input_shape[0], activation='linear'))  # Output layer  \n",
    "    model.compile(optimizer='adam', loss='mse')  \n",
    "    return model  "
   ]
  },
  {
   "cell_type": "markdown",
   "metadata": {},
   "source": [
    "## As a validation strategy, I decided to use a common spline trace test that randomly splits the data . 80% for the training and 20% for the test"
   ]
  },
  {
   "cell_type": "code",
   "execution_count": 74,
   "metadata": {},
   "outputs": [],
   "source": [
    "X_train, X_test, Y_train, Y_test = train_test_split(X_noisy, Y_processed, test_size=0.2, random_state=1706)"
   ]
  },
  {
   "cell_type": "code",
   "execution_count": 75,
   "metadata": {},
   "outputs": [],
   "source": [
    "# Step 4: Train the model  \n",
    "def train_model(X_train, Y_train, X_val, Y_val):  \n",
    "    model = build_model((X_train.shape[1],))  \n",
    "    history = model.fit(X_train, Y_train, validation_data=(X_val, Y_val), epochs=20, batch_size=32)  \n",
    "    return model, history "
   ]
  },
  {
   "cell_type": "code",
   "execution_count": 76,
   "metadata": {},
   "outputs": [
    {
     "name": "stdout",
     "output_type": "stream",
     "text": [
      "Epoch 1/20\n",
      "113/113 [==============================] - 3s 8ms/step - loss: 0.0075 - val_loss: 5.1689e-04\n",
      "Epoch 2/20\n",
      "113/113 [==============================] - 1s 7ms/step - loss: 3.4251e-04 - val_loss: 2.3347e-04\n",
      "Epoch 3/20\n",
      "113/113 [==============================] - 1s 5ms/step - loss: 1.9370e-04 - val_loss: 1.6391e-04\n",
      "Epoch 4/20\n",
      "113/113 [==============================] - 1s 6ms/step - loss: 1.4552e-04 - val_loss: 1.3323e-04\n",
      "Epoch 5/20\n",
      "113/113 [==============================] - 1s 5ms/step - loss: 1.1743e-04 - val_loss: 1.0876e-04\n",
      "Epoch 6/20\n",
      "113/113 [==============================] - 1s 8ms/step - loss: 9.8647e-05 - val_loss: 9.6529e-05\n",
      "Epoch 7/20\n",
      "113/113 [==============================] - 1s 6ms/step - loss: 8.7692e-05 - val_loss: 9.2662e-05\n",
      "Epoch 8/20\n",
      "113/113 [==============================] - 1s 6ms/step - loss: 8.1570e-05 - val_loss: 8.0443e-05\n",
      "Epoch 9/20\n",
      "113/113 [==============================] - 1s 5ms/step - loss: 7.5458e-05 - val_loss: 7.6363e-05\n",
      "Epoch 10/20\n",
      "113/113 [==============================] - 1s 6ms/step - loss: 7.1904e-05 - val_loss: 7.1907e-05\n",
      "Epoch 11/20\n",
      "113/113 [==============================] - 1s 6ms/step - loss: 6.5803e-05 - val_loss: 7.0520e-05\n",
      "Epoch 12/20\n",
      "113/113 [==============================] - 1s 6ms/step - loss: 6.2264e-05 - val_loss: 6.6263e-05\n",
      "Epoch 13/20\n",
      "113/113 [==============================] - 1s 6ms/step - loss: 5.9019e-05 - val_loss: 6.0380e-05\n",
      "Epoch 14/20\n",
      "113/113 [==============================] - 1s 6ms/step - loss: 5.3654e-05 - val_loss: 6.4823e-05\n",
      "Epoch 15/20\n",
      "113/113 [==============================] - 1s 6ms/step - loss: 5.2860e-05 - val_loss: 5.1692e-05\n",
      "Epoch 16/20\n",
      "113/113 [==============================] - 1s 5ms/step - loss: 4.8700e-05 - val_loss: 5.6912e-05\n",
      "Epoch 17/20\n",
      "113/113 [==============================] - 1s 5ms/step - loss: 4.6911e-05 - val_loss: 5.4288e-05\n",
      "Epoch 18/20\n",
      "113/113 [==============================] - 1s 5ms/step - loss: 4.4260e-05 - val_loss: 4.7986e-05\n",
      "Epoch 19/20\n",
      "113/113 [==============================] - 1s 5ms/step - loss: 4.2799e-05 - val_loss: 4.6747e-05\n",
      "Epoch 20/20\n",
      "113/113 [==============================] - 1s 5ms/step - loss: 4.0658e-05 - val_loss: 4.7127e-05\n"
     ]
    }
   ],
   "source": [
    "model, history = train_model(X_train, Y_train, X_test, Y_test)"
   ]
  },
  {
   "cell_type": "markdown",
   "metadata": {},
   "source": [
    "### Evaluation \n",
    "Since we have essentially a regression problem, we can use MSE here, which is well suited for this task. In the context of denoising, MSE is appropriate because it quantifies how close the denoized signal (predicted by the model) is to the original clean signal in terms of their squared differences.\n",
    "\n",
    "MSE is sensitive to outliers and penalizes larger errors more than smaller ones, which is desirable in many denoising tasks where we want to minimize the impact of large noise spikes.\n"
   ]
  },
  {
   "cell_type": "code",
   "execution_count": 77,
   "metadata": {},
   "outputs": [],
   "source": [
    "# Step 5: Evaluate the model  \n",
    "def evaluate_model(model, X_test, Y_test):  \n",
    "    predictions = model.predict(X_test)  \n",
    "    mse = np.mean((predictions - Y_test) ** 2)  \n",
    "    return mse "
   ]
  },
  {
   "cell_type": "code",
   "execution_count": 78,
   "metadata": {},
   "outputs": [
    {
     "name": "stdout",
     "output_type": "stream",
     "text": [
      "29/29 [==============================] - 0s 2ms/step\n",
      "Mean Squared Error: 4.712698205172855e-05\n"
     ]
    }
   ],
   "source": [
    "import matplotlib.pyplot as plt \n",
    "\n",
    "mse = evaluate_model(model, X_test, Y_test)  \n",
    "print(f\"Mean Squared Error: {mse}\")  "
   ]
  },
  {
   "cell_type": "code",
   "execution_count": 79,
   "metadata": {},
   "outputs": [
    {
     "data": {
      "image/png": "[encoded data removed]",
      "text/plain": [
       "<Figure size 640x480 with 1 Axes>"
      ]
     },
     "metadata": {},
     "output_type": "display_data"
    }
   ],
   "source": [
    "# Visualize training history  \n",
    "plt.plot(history.history['loss'], label='train')  \n",
    "plt.plot(history.history['val_loss'], label='validation')  \n",
    "plt.legend()  \n",
    "plt.show() "
   ]
  },
  {
   "cell_type": "code",
   "execution_count": 80,
   "metadata": {},
   "outputs": [
    {
     "name": "stdout",
     "output_type": "stream",
     "text": [
      "29/29 [==============================] - 0s 2ms/step\n"
     ]
    }
   ],
   "source": [
    "# Step 6: Save the denoised curves  \n",
    "def save_denoised_curves(predictions, directory):  \n",
    "    if not os.path.exists(directory):  \n",
    "        os.makedirs(directory)  \n",
    "      \n",
    "    # Apply arctanh to the predictions before saving.\n",
    "    for i, curve in enumerate(predictions):  \n",
    "        curve_inverse_tanh = np.arctanh(curve)  \n",
    "        pd.DataFrame(curve_inverse_tanh).to_csv(os.path.join(directory, f'denoised_curve_{i}.csv'), index=False, header=False)  \n",
    "\n",
    "predictions = model.predict(X_test)  \n",
    "save_denoised_curves(predictions, \"C:\\\\Users\\\\your\\\\directory\\\\for\\\\prediction\")  "
   ]
  }
 ],
 "metadata": {
  "colab": {
   "provenance": []
  },
  "kernelspec": {
   "display_name": "Python 3 (ipykernel)",
   "language": "python",
   "name": "python3"
  },
  "language_info": {
   "codemirror_mode": {
    "name": "ipython",
    "version": 3
   },
   "file_extension": ".py",
   "mimetype": "text/x-python",
   "name": "python",
   "nbconvert_exporter": "python",
   "pygments_lexer": "ipython3",
   "version": "3.9.13"
  },
  "vscode": {
   "interpreter": {
    "hash": "c689da37b931957c2181bb211f19f7968a084e5aca8407acb6ef0e3194bd9e10"
   }
  }
 },
 "nbformat": 4,
 "nbformat_minor": 1
}
